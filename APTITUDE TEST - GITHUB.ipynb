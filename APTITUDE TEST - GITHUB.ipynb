{
 "cells": [
  {
   "cell_type": "markdown",
   "id": "eac41735",
   "metadata": {},
   "source": [
    "# APTITUDE TEST\n",
    "## TOTAL QUESTION:10\n",
    "## PASSING MARKS:5"
   ]
  },
  {
   "cell_type": "code",
   "execution_count": null,
   "id": "aa50f442",
   "metadata": {},
   "outputs": [],
   "source": [
    "#Get questions randomly from dataset\n",
    "#After answering,answer should match the data set values:if matching count 1 else 0\n",
    "#Final output as score of aptitude test\n",
    "#Based on score, give result if candidate is selected or not"
   ]
  },
  {
   "cell_type": "code",
   "execution_count": 22,
   "id": "01a26cd7",
   "metadata": {},
   "outputs": [],
   "source": [
    "# pip install pyttsx3 \"IF pyttsx3 IS NOT INSTALL IN SYSTEM\"\n",
    "import numpy as np\n",
    "import matplotlib.pyplot as plt\n",
    "import pandas as pd\n",
    "import pyttsx3\n",
    "import random "
   ]
  },
  {
   "cell_type": "code",
   "execution_count": 3,
   "id": "5ee78287",
   "metadata": {},
   "outputs": [
    {
     "name": "stdout",
     "output_type": "stream",
     "text": [
      "Enter your name \tANKITA DHUMAL\n",
      "Enter your age  \t25\n",
      "Enter your city  \tMumbai\n"
     ]
    }
   ],
   "source": [
    "#COLLECTING INFORMATION OF THE CANDIDATE\n",
    "speak=pyttsx3.init()\n",
    "speak.say(\"Enter your name\")\n",
    "speak.runAndWait()\n",
    "Name=input(\"Enter your name \\t\")\n",
    "\n",
    "speak.say(\"Enter your age\")\n",
    "speak.runAndWait()\n",
    "b=int(input(\"Enter your age  \\t\"))\n",
    "\n",
    "speak.say(\"Enter your city\")\n",
    "speak.runAndWait()\n",
    "c=input(\"Enter your city  \\t\")"
   ]
  },
  {
   "cell_type": "code",
   "execution_count": 17,
   "id": "9f4facb3",
   "metadata": {},
   "outputs": [
    {
     "name": "stdout",
     "output_type": "stream",
     "text": [
      "19*476\n",
      "19*6114\n",
      "19*238\n",
      "7*2966\n",
      "69*855\n",
      "45+4590\n",
      "9+100109\n",
      "33+3366\n",
      "99+99198\n",
      "7*29169\n",
      "QUESTION SET IS  ['19*4', '19*6', '19*2', '7*29', '69*8', '45+45', '9+100', '33+33', '99+99', '7*29']\n",
      "ANSWER SET IS  [76, 114, 38, 66, 55, 90, 109, 66, 198, 169]\n"
     ]
    }
   ],
   "source": [
    "import random \n",
    "question_set=[]\n",
    "answer_set=[]\n",
    "marks=0\n",
    "marksafterans=[]\n",
    "df_maths=pd.read_excel(r\"C:\\Users\\hp\\OneDrive\\Desktop\\Maths_Test.xlsx\",header=0,index_col=0)\n",
    "Answers=list(df_maths[\"Answers\"])\n",
    "question=list(df_maths[\"Questions\"])#Taken as a list otherwise it gives int64index' object is not callable error\n",
    "   \n",
    "for i in range(10):#Range can be changed to attend more quenstions(No of questions)\n",
    "\n",
    "    que=random.choice(question)\n",
    "    question_set.append(que)  #to see the value of the random question\n",
    "    index=question.index(que) #to get index number of the random question\n",
    "    iplus1=i+1                #because value of i is Zero for question 1\n",
    "    question_no=\"question no\"\n",
    "    question_no=question_no.replace(\"no\",str(iplus1))\n",
    "    speak.say(question_no)\n",
    "    speak.runAndWait()\n",
    "    answers=int(input(question_set[i])) #input function collects data in string type \n",
    "    answer_set.append(answers)\n",
    "    if answers==Answers[index]:# Take Answers as a list otherwise index values will mismatched\n",
    "        marks=marks+1\n",
    "    else:\n",
    "        marks=marks+0\n",
    "    marksafterans.append(marks)\n",
    "print(\"QUESTION SET IS \",question_set)\n",
    "print(\"ANSWER SET IS \",answer_set)"
   ]
  },
  {
   "cell_type": "code",
   "execution_count": 25,
   "id": "23234d2f",
   "metadata": {},
   "outputs": [
    {
     "name": "stdout",
     "output_type": "stream",
     "text": [
      "Dear ANKITA DHUMAL,\n",
      "        \n",
      "\tYour score is 7.0, \n",
      "        \n",
      "\t Congratulations, you are selected!\n",
      "        \n",
      "\t\t02/27/2023\n"
     ]
    },
    {
     "data": {
      "text/plain": [
       "Text(0.5, 1.0, 'MARKSHEET')"
      ]
     },
     "execution_count": 25,
     "metadata": {},
     "output_type": "execute_result"
    },
    {
     "data": {
      "image/png": "[encoded data removed]",
      "text/plain": [
       "<Figure size 432x288 with 1 Axes>"
      ]
     },
     "metadata": {
      "needs_background": "light"
     },
     "output_type": "display_data"
    }
   ],
   "source": [
    "total_marks=10\n",
    "score=marks/total_marks*10\n",
    "\n",
    "import datetime\n",
    "\n",
    "Date = datetime.datetime.now()\n",
    "Date= Date.strftime(\"%m/%d/%Y\")\n",
    "\n",
    "pletter=\"\"\"Dear Name,\n",
    "        \\n\\tYour score is Score, \n",
    "        \\n\\t Congratulations, you are selected!\n",
    "        \\n\\t\\tDate\"\"\"\n",
    "pfeedback=\"\"\"Dear Name,\n",
    "        \\n\\tYour score is Score\n",
    "        \\n\\t Congratulations \n",
    "        \\n\\tyou are selected!\n",
    "        \\n\\t\\ton the day Date\"\"\"\n",
    "\n",
    "nletter=\"\"\"Dear Name,\n",
    "        \\n\\tYour score is Score , you are not selected!\n",
    "        \\n\\tThank you for the time you invested\n",
    "        \\n\\tbest of luck in your job search\n",
    "        \\n\\t\\ton the day Date\"\"\"\n",
    "nfeedback=\"\"\"Dear Name,\n",
    "        \\n\\tYour score is Score , you are not selected!\n",
    "        \\n\\t Thank you for the time you invested \n",
    "        \\n\\tbest of luck in your job search\"\"\"\n",
    "\n",
    "\n",
    "if score>=5:\n",
    "    pletter=pletter.replace(\"Name\",Name)\n",
    "    pletter=pletter.replace(\"Score\",str(score))\n",
    "    pletter=pletter.replace(\"Date\",str(Date))\n",
    "    print(pletter)\n",
    "    pfeedback=pfeedback.replace(\"Name\",Name)\n",
    "    pfeedback=pfeedback.replace(\"Score\",str(score))\n",
    "    pfeedback=pfeedback.replace(\"Date\",str(Date))\n",
    "    speak.say(pfeedback)\n",
    "    speak.runAndWait()\n",
    "else:\n",
    "    nletter=nletter.replace(\"Name\",Name)\n",
    "    nletter=nletter.replace(\"Score\",str(score))\n",
    "    nletter=nletter.replace(\"Date\",str(Date))\n",
    "    print(nletter)\n",
    "    nfeedback=nfeedback.replace(\"Name\",Name)\n",
    "    nfeedback=nfeedback.replace(\"Score\",str(score))\n",
    "    speak.say(nfeedback)\n",
    "    speak.runAndWait()\n",
    "    \n",
    "Xquestion=np.arange(1,11,1)\n",
    "plt.plot(Xquestion,marksafterans,color=\"black\",marker=\"*\",linestyle=\"--\")\n",
    "plt.xlabel(\"Question number\")\n",
    "plt.ylabel(\"Marks\")\n",
    "plt.title(\"MARKSHEET\")"
   ]
  },
  {
   "cell_type": "code",
   "execution_count": null,
   "id": "2647778f",
   "metadata": {},
   "outputs": [],
   "source": []
  },
  {
   "cell_type": "code",
   "execution_count": null,
   "id": "5ebb823a",
   "metadata": {},
   "outputs": [],
   "source": []
  },
  {
   "cell_type": "code",
   "execution_count": null,
   "id": "ab8ed35c",
   "metadata": {},
   "outputs": [],
   "source": []
  }
 ],
 "metadata": {
  "kernelspec": {
   "display_name": "Python 3 (ipykernel)",
   "language": "python",
   "name": "python3"
  },
  "language_info": {
   "codemirror_mode": {
    "name": "ipython",
    "version": 3
   },
   "file_extension": ".py",
   "mimetype": "text/x-python",
   "name": "python",
   "nbconvert_exporter": "python",
   "pygments_lexer": "ipython3",
   "version": "3.9.12"
  }
 },
 "nbformat": 4,
 "nbformat_minor": 5
}
